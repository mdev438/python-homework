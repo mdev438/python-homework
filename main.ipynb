{
 "cells": [
  {
   "cell_type": "code",
   "execution_count": 11,
   "metadata": {},
   "outputs": [
    {
     "name": "stdout",
     "output_type": "stream",
     "text": [
      "budget_data.csv\n"
     ]
    }
   ],
   "source": [
    "from pathlib import Path\n",
    "import csv\n",
    "\n",
    "\n",
    "csvpath = Path('./budget_data.csv')\n",
    "\n",
    "print(csvpath)"
   ]
  },
  {
   "cell_type": "code",
   "execution_count": 22,
   "metadata": {},
   "outputs": [],
   "source": [
    "\n",
    "count = 0\n",
    "\n",
    "mininc = 0\n",
    "maxinc = 0\n",
    "maxdate = 0\n",
    "mindate = 0\n",
    "profitsum = 0\n",
    "pcl = []\n",
    "\n",
    "prevmonthp = 0\n",
    "\n",
    "pmaxchange = 0\n",
    "pminchange = 0\n",
    "\n",
    "pmincd = 'random date'\n",
    "pmaxcd = 'random date'\n"
   ]
  },
  {
   "cell_type": "code",
   "execution_count": 23,
   "metadata": {},
   "outputs": [],
   "source": [
    "with open(csvpath, 'r') as csvfile:    \n",
    "    csvreader = csv.reader(csvfile, delimiter=',')\n",
    "    \n",
    "    next(csvreader)\n",
    "    \n",
    " \n",
    "    for row in csvreader:\n",
    "        \n",
    "      \n",
    "        date = row[0]\n",
    "        profit = int(row[1])\n",
    "        \n",
    "        count += 1\n",
    "        \n",
    "        if profit > maxinc:\n",
    "            maxinc = profit\n",
    "            maxdate = date\n",
    "\n",
    "        if profit < mininc:\n",
    "            mininc = profit\n",
    "            mindate = date\n",
    "\n",
    "        profitsum += profit\n",
    "        \n",
    "\n",
    "        profitchange = profit - prevmonthp\n",
    "        prevmonthp = profit\n",
    "        \n",
    "        pcl.append(profitchange)\n",
    "  \n",
    "        if profitchange > pmaxchange:\n",
    "            pmaxchange = profitchange\n",
    "            pmaxcd = date\n",
    "        \n",
    "        if profitchange < pminchange:\n",
    "            pminchange = profitchange\n",
    "            pmincd = date\n",
    "\n",
    "    avg_profit = sum(pcl)/len(pcl)"
   ]
  },
  {
   "cell_type": "code",
   "execution_count": 25,
   "metadata": {},
   "outputs": [
    {
     "name": "stdout",
     "output_type": "stream",
     "text": [
      "Feb-2012 had a maximum profit of: 1170593\n",
      " \n",
      "Sep-2013 had a minimum profit of: -1196225\n",
      " \n",
      "Total profit was: 38382578\n",
      "357847.1589147287\n"
     ]
    }
   ],
   "source": [
    "print(f'{maxdate} had a maximum profit of: {maxinc}')\n",
    "print(\" \")\n",
    "print(f'{mindate} had a minimum profit of: {mininc}')\n",
    "print(\" \")\n",
    "print(f'Total profit was: {profitsum}')\n",
    "print(avg_profit)"
   ]
  },
  {
   "cell_type": "code",
   "execution_count": 28,
   "metadata": {},
   "outputs": [],
   "source": [
    "header = (\"Financial Analytics\")\n",
    "line_break = (\"------------------------------------------\")\n",
    "\n",
    "\n",
    "date_max = [maxdate]\n",
    "date_min = [mindate]\n",
    "income_max = [maxinc]\n",
    "income_min = [mininc]\n",
    "profit_change_min_date = [pmincd]\n",
    "profit_change_max_date = [pmaxcd]\n",
    "profit_change_max  = [pmaxchange]\n",
    "profit_change_min = [pminchange]\n",
    "count_months = [count]\n",
    "average = [profitsum]\n",
    "average_change = [avg_profit]\n",
    "\n",
    "# Set the output file path\n",
    "output_path = Path('output.txt')\n",
    "\n",
    "# Open the output path as a file object\n",
    "with open(output_path, 'w') as csvfile:\n",
    "    # Set the file object as a csvwriter object\n",
    "    csvwriter = csv.writer(csvfile, delimiter=',')\n",
    "    # Write the header to the output file\n",
    "    csvwriter.writerow({header})\n",
    "    csvwriter.writerow({line_break})\n",
    "    \n",
    "    # Write the list of metrics to the output file\n",
    "    csvwriter.writerow({f'Total Months: {count_months}'})\n",
    "    csvwriter.writerow({f'Total: ${average}'})\n",
    "    csvwriter.writerow({f'Average Change: ${average_change}'})\n",
    "    csvwriter.writerow({f'Greatest Increase in Profits:{profit_change_max_date} ${profit_change_max}'})\n",
    "    csvwriter.writerow({f'Greatest Increase in Profits:{profit_change_min_date} ${profit_change_min}'})"
   ]
  }
 ],
 "metadata": {
  "kernelspec": {
   "display_name": "Python 3",
   "language": "python",
   "name": "python3"
  },
  "language_info": {
   "codemirror_mode": {
    "name": "ipython",
    "version": 3
   },
   "file_extension": ".py",
   "mimetype": "text/x-python",
   "name": "python",
   "nbconvert_exporter": "python",
   "pygments_lexer": "ipython3",
   "version": "3.7.4"
  }
 },
 "nbformat": 4,
 "nbformat_minor": 4
}
